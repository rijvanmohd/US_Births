{
 "cells": [
  {
   "cell_type": "code",
   "execution_count": 1,
   "metadata": {},
   "outputs": [],
   "source": [
    "def read_csv(file_name):\n",
    "    f = open(file_name,'r')\n",
    "    data = f.read()\n",
    "    split_line = data.split('\\n')\n",
    "    string_list = split_line[1:len(split_line)]\n",
    "    final_list = []\n",
    "    for row in string_list:\n",
    "        int_fields = []\n",
    "        string_fields = row.split(',');\n",
    "        for val in string_fields:\n",
    "            int_fields.append(int(val))\n",
    "        final_list.append(int_fields)\n",
    "    return final_list\n",
    "\n"
   ]
  },
  {
   "cell_type": "code",
   "execution_count": 2,
   "metadata": {},
   "outputs": [
    {
     "data": {
      "text/plain": [
       "[[1994, 1, 1, 6, 8096],\n",
       " [1994, 1, 2, 7, 7772],\n",
       " [1994, 1, 3, 1, 10142],\n",
       " [1994, 1, 4, 2, 11248],\n",
       " [1994, 1, 5, 3, 11053],\n",
       " [1994, 1, 6, 4, 11406],\n",
       " [1994, 1, 7, 5, 11251],\n",
       " [1994, 1, 8, 6, 8653],\n",
       " [1994, 1, 9, 7, 7910]]"
      ]
     },
     "execution_count": 2,
     "metadata": {},
     "output_type": "execute_result"
    }
   ],
   "source": [
    "cdc_list = read_csv(\"US_births_1994-2003_CDC_NCHS.csv\")\n",
    "cdc_list[0:9]"
   ]
  },
  {
   "cell_type": "code",
   "execution_count": 5,
   "metadata": {},
   "outputs": [],
   "source": [
    "def calc_counts(data_list,column):\n",
    "    main_dict = {}\n",
    "    for row in data_list:\n",
    "        field = row[column]\n",
    "        birth_count = row[4]\n",
    "        if field in main_dict:\n",
    "            main_dict[field] = main_dict[field] +  birth_count\n",
    "        else:\n",
    "            main_dict[field] = birth_count\n",
    "    return main_dict"
   ]
  },
  {
   "cell_type": "code",
   "execution_count": 7,
   "metadata": {},
   "outputs": [
    {
     "data": {
      "text/plain": [
       "{1994: 3952767,\n",
       " 1995: 3899589,\n",
       " 1996: 3891494,\n",
       " 1997: 3880894,\n",
       " 1998: 3941553,\n",
       " 1999: 3959417,\n",
       " 2000: 4058814,\n",
       " 2001: 4025933,\n",
       " 2002: 4021726,\n",
       " 2003: 4089950}"
      ]
     },
     "execution_count": 7,
     "metadata": {},
     "output_type": "execute_result"
    }
   ],
   "source": [
    "cdc_year_births = calc_counts(cdc_list,0)\n",
    "cdc_month_births = calc_counts(cdc_list,1)\n",
    "cdc_dom_births = calc_counts(cdc_list,2)\n",
    "cdc_dow_births = calc_counts(cdc_list,3)\n",
    "cdc_year_births"
   ]
  },
  {
   "cell_type": "code",
   "execution_count": 8,
   "metadata": {},
   "outputs": [],
   "source": [
    "def max_and_min(data):\n",
    "    max_min = {}\n",
    "    for key,value in data.items():\n",
    "        max_min[\"max\"] = key,value\n",
    "        max_min[\"min\"] = key,value\n",
    "    for key,value in data.items():\n",
    "        if value >= max_min[\"max\"][1]:\n",
    "            max_min[\"max\"]=key,value\n",
    "        if value <= max_min[\"min\"][1]:\n",
    "            max_min[\"min\"]=key,value\n",
    "    return max_min"
   ]
  },
  {
   "cell_type": "code",
   "execution_count": 12,
   "metadata": {},
   "outputs": [
    {
     "name": "stdout",
     "output_type": "stream",
     "text": [
      "{'max': (2003, 4089950), 'min': (1997, 3880894)}\n"
     ]
    }
   ],
   "source": [
    "print(max_and_min(cdc_year_births))"
   ]
  },
  {
   "cell_type": "code",
   "execution_count": 71,
   "metadata": {},
   "outputs": [],
   "source": [
    "def birth_change(data,filter_field,filter_value):\n",
    "    birth_data = {}\n",
    "    total_births=0\n",
    "    \n",
    "    for row in data:\n",
    "        year = row[0]\n",
    "        day = row[filter_field]\n",
    "        births = row[4]\n",
    "        if year in birth_data and day==filter_value:\n",
    "            birth_data[year]+=births\n",
    "        \n",
    "        elif not(year in birth_data) and day==filter_value:\n",
    "            birth_data[year] = births\n",
    "                \n",
    "    return birth_growth(birth_data)"
   ]
  },
  {
   "cell_type": "code",
   "execution_count": 72,
   "metadata": {},
   "outputs": [],
   "source": [
    "def birth_growth(total_data):\n",
    "    prev_year_birth=0\n",
    "    current_year_diff=0\n",
    "    year_sat_data = {}\n",
    "        \n",
    "    for birth_year, no_births in total_data.items():\n",
    "        current_year_birth = no_births\n",
    "        if prev_year_birth==0:\n",
    "            year_sat_data[birth_year] = 0,\"No Data for this year.\"\n",
    "            prev_year_birth = current_year_birth\n",
    "        else:\n",
    "            current_birth_diff = current_year_birth - prev_year_birth\n",
    "            if current_birth_diff > 0:\n",
    "                year_sat_data[birth_year] = current_birth_diff,\"Increased\"\n",
    "                prev_year_birth = current_year_birth\n",
    "            elif current_birth_diff < 0:\n",
    "                year_sat_data[birth_year] = -current_birth_diff,\"Decreased\"\n",
    "                prev_year_birth = current_year_birth\n",
    "            elif current_birth_diff ==0:\n",
    "                year_sat_data[birth_year] = 0,\"Static\"\n",
    "                prev_year_birth = current_year_birth\n",
    "    return year_sat_data"
   ]
  },
  {
   "cell_type": "code",
   "execution_count": 73,
   "metadata": {},
   "outputs": [
    {
     "data": {
      "text/plain": [
       "{1994: (0, 'No Data for this year.'),\n",
       " 1995: (15152, 'Decreased'),\n",
       " 1996: (3319, 'Decreased'),\n",
       " 1997: (5421, 'Decreased'),\n",
       " 1998: (2936, 'Increased'),\n",
       " 1999: (3791, 'Decreased'),\n",
       " 2000: (19809, 'Increased'),\n",
       " 2001: (15866, 'Decreased'),\n",
       " 2002: (8158, 'Decreased'),\n",
       " 2003: (1675, 'Increased')}"
      ]
     },
     "execution_count": 73,
     "metadata": {},
     "output_type": "execute_result"
    }
   ],
   "source": [
    "total_births = birth_change(cdc_list,3,6)\n",
    "total_births"
   ]
  },
  {
   "cell_type": "code",
   "execution_count": null,
   "metadata": {},
   "outputs": [],
   "source": []
  }
 ],
 "metadata": {
  "anaconda-cloud": {},
  "kernelspec": {
   "display_name": "Python 3",
   "language": "python",
   "name": "python3"
  },
  "language_info": {
   "codemirror_mode": {
    "name": "ipython",
    "version": 3
   },
   "file_extension": ".py",
   "mimetype": "text/x-python",
   "name": "python",
   "nbconvert_exporter": "python",
   "pygments_lexer": "ipython3",
   "version": "3.6.5"
  }
 },
 "nbformat": 4,
 "nbformat_minor": 1
}
